{
 "cells": [
  {
   "cell_type": "markdown",
   "metadata": {},
   "source": [
    "Задание 1: Атрибуты класса\n",
    "Создайте класс Car с атрибутами класса\n",
    "default_color и default_model.\n",
    "default_color должен быть равен \"black\".\n",
    "default_model должен быть равен \"sedan\".\n",
    "Добавьте в класс Car конструктор, который\n",
    "принимает параметры color и model.\n",
    "Если color не передан, используйте значение\n",
    "атрибута класса default_color.\n",
    "Если model не передан, используйте значение\n",
    "атрибута класса default_model.\n",
    "Создайте два объекта класса Car:\n",
    "Первый объект с параметрами color=\"red\" и\n",
    "model=\"SUV\".\n",
    "Второй объект без параметров.\n",
    "Выведите на экран атрибуты color и model для\n",
    "обоих объектов."
   ]
  },
  {
   "cell_type": "code",
   "execution_count": 1,
   "metadata": {},
   "outputs": [
    {
     "name": "stdout",
     "output_type": "stream",
     "text": [
      "Car 1: Color: red, Model: SUV\n",
      "Car 2: Color: black, Model: sedan\n"
     ]
    }
   ],
   "source": [
    "class Car:\n",
    "    default_color = \"black\"\n",
    "    default_model = \"sedan\"\n",
    "\n",
    "    def __init__(self, color=None, model=None):\n",
    "        if color is None:\n",
    "            self.color = Car.default_color\n",
    "        else:\n",
    "            self.color = color\n",
    "        \n",
    "        if model is None:\n",
    "            self.model = Car.default_model\n",
    "        else:\n",
    "            self.model = model\n",
    "\n",
    "\n",
    "car1 = Car(color=\"red\", model=\"SUV\")\n",
    "car2 = Car()\n",
    "\n",
    "\n",
    "print(f\"Car 1: Color: {car1.color}, Model: {car1.model}\")\n",
    "print(f\"Car 2: Color: {car2.color}, Model: {car2.model}\")"
   ]
  },
  {
   "cell_type": "markdown",
   "metadata": {},
   "source": [
    "Задание 2: Статические методы\n",
    "Создайте класс MathOperations с двумя\n",
    "статическими методами:\n",
    "add(a, b) — возвращает сумму двух чисел.\n",
    "multiply(a, b) — возвращает произведение двух\n",
    "чисел.\n",
    "Вызовите оба статических метода через имя\n",
    "класса и через объект класса."
   ]
  },
  {
   "cell_type": "code",
   "execution_count": 2,
   "metadata": {},
   "outputs": [
    {
     "name": "stdout",
     "output_type": "stream",
     "text": [
      "Сумма: 8\n",
      "Произведение: 15\n",
      "Сумма через объект: 30\n",
      "Произведение через объект: 200\n"
     ]
    }
   ],
   "source": [
    "class MathOperations:\n",
    "    @staticmethod\n",
    "    def add(a, b):\n",
    "        \"\"\"Возвращает сумму двух чисел.\"\"\"\n",
    "        return a + b\n",
    "\n",
    "    @staticmethod\n",
    "    def multiply(a, b):\n",
    "        \"\"\"Возвращает произведение двух чисел.\"\"\"\n",
    "        return a * b\n",
    "\n",
    "sum_result = MathOperations.add(5, 3)\n",
    "multiply_result = MathOperations.multiply(5, 3)\n",
    "\n",
    "print(f\"Сумма: {sum_result}\")\n",
    "print(f\"Произведение: {multiply_result}\")\n",
    "\n",
    "\n",
    "math_operations = MathOperations()\n",
    "sum_result_obj = math_operations.add(10, 20)\n",
    "multiply_result_obj = math_operations.multiply(10, 20)\n",
    "\n",
    "print(f\"Сумма через объект: {sum_result_obj}\")\n",
    "print(f\"Произведение через объект: {multiply_result_obj}\")"
   ]
  },
  {
   "cell_type": "markdown",
   "metadata": {},
   "source": [
    "Задание 3: Перегрузка операторов\n",
    "Создайте класс Vector с атрибутом values,\n",
    "который представляет собой список чисел.\n",
    "Реализуйте перегрузку оператора сложения\n",
    "(__add__) для класса Vector.\n",
    "Сложение двух объектов Vector должно\n",
    "возвращать новый объект Vector, значения\n",
    "которого являются суммой соответствующих\n",
    "элементов двух векторов.\n",
    "Реализуйте перегрузку оператора умножения\n",
    "(__mul__) для класса Vector.\n",
    "Умножение двух объектов Vector должно\n",
    "возвращать скалярное произведение векторов.\n",
    "Создайте два объекта Vector с разными\n",
    "значениями и выполните сложение и\n",
    "умножение.\n"
   ]
  },
  {
   "cell_type": "code",
   "execution_count": 3,
   "metadata": {},
   "outputs": [
    {
     "name": "stdout",
     "output_type": "stream",
     "text": [
      "Сумма векторов: Vector([5, 7, 9])\n",
      "Скалярное произведение векторов: 32\n"
     ]
    }
   ],
   "source": [
    "class Vector:\n",
    "    def __init__(self, values):\n",
    "        self.values = values\n",
    "\n",
    "    def __add__(self, other):\n",
    "        if len(self.values) != len(other.values):\n",
    "            raise ValueError(\"Vectors must be of the same length for addition\")\n",
    "        result_values = [a + b for a, b in zip(self.values, other.values)]\n",
    "        return Vector(result_values)\n",
    "\n",
    "    def __mul__(self, other):\n",
    "        if len(self.values) != len(other.values):\n",
    "            raise ValueError(\"Vectors must be of the same length for multiplication\")\n",
    "        return sum(a * b for a, b in zip(self.values, other.values))\n",
    "\n",
    "    def __repr__(self):\n",
    "        return f\"Vector({self.values})\"\n",
    "\n",
    "\n",
    "vector1 = Vector([1, 2, 3])\n",
    "vector2 = Vector([4, 5, 6])\n",
    "\n",
    "vector_sum = vector1 + vector2\n",
    "\n",
    "dot_product = vector1 * vector2\n",
    "\n",
    "\n",
    "print(f\"Сумма векторов: {vector_sum}\")\n",
    "print(f\"Скалярное произведение векторов: {dot_product}\")"
   ]
  },
  {
   "cell_type": "markdown",
   "metadata": {},
   "source": [
    "Задание 4: Проверка наличия свойства\n",
    "Создайте класс Person с атрибутами name и age.\n",
    "Реализуйте метод __contains__, который\n",
    "проверяет, содержит ли объект атрибут с\n",
    "указанным именем.\n",
    "Если переданное имя атрибута равно \"name\" или\n",
    "\"age\", метод должен возвращать True.\n",
    "В противном случае — False.\n",
    "Создайте объект Person и проверьте наличие\n",
    "атрибутов \"name\" и \"id\" с помощью оператора\n",
    "in."
   ]
  },
  {
   "cell_type": "code",
   "execution_count": 4,
   "metadata": {},
   "outputs": [
    {
     "name": "stdout",
     "output_type": "stream",
     "text": [
      "Содержит 'name': True\n",
      "Содержит 'id': False\n"
     ]
    }
   ],
   "source": [
    "class Person:\n",
    "    def __init__(self, name, age):\n",
    "        self.name = name\n",
    "        self.age = age\n",
    "\n",
    "    def __contains__(self, item):\n",
    "        return item in (\"name\", \"age\")\n",
    "\n",
    "person = Person(\"Alice\", 30)\n",
    "\n",
    "has_name = \"name\" in person\n",
    "has_id = \"id\" in person\n",
    "\n",
    "print(f\"Содержит 'name': {has_name}\")\n",
    "print(f\"Содержит 'id': {has_id}\")"
   ]
  }
 ],
 "metadata": {
  "kernelspec": {
   "display_name": "Python 3",
   "language": "python",
   "name": "python3"
  },
  "language_info": {
   "codemirror_mode": {
    "name": "ipython",
    "version": 3
   },
   "file_extension": ".py",
   "mimetype": "text/x-python",
   "name": "python",
   "nbconvert_exporter": "python",
   "pygments_lexer": "ipython3",
   "version": "3.12.7"
  }
 },
 "nbformat": 4,
 "nbformat_minor": 2
}
